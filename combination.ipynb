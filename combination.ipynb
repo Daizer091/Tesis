{
 "cells": [
  {
   "cell_type": "code",
   "execution_count": 1,
   "metadata": {},
   "outputs": [],
   "source": [
    "import os\n",
    "import soundfile as sf\n",
    "import numpy as np\n",
    "from scipy.io.wavfile import write"
   ]
  },
  {
   "cell_type": "code",
   "execution_count": 12,
   "metadata": {},
   "outputs": [
    {
     "name": "stdout",
     "output_type": "stream",
     "text": [
      "(500,)\n"
     ]
    }
   ],
   "source": [
    "#Cargar lista de audios \n",
    "audios_S='./Export Auidos'\n",
    "\n",
    "archivos = os.listdir(audios_S)\n",
    "resul = []\n",
    "\n",
    "for i in archivos:\n",
    "    if os.path.isfile(os.path.join(audios_S, i)) and i.endswith('.wav'):\n",
    "        resul.append(i)\n",
    "audios_S_arr=np.array(resul)\n",
    "print(audios_S_arr.shape)"
   ]
  },
  {
   "cell_type": "code",
   "execution_count": 13,
   "metadata": {},
   "outputs": [
    {
     "name": "stdout",
     "output_type": "stream",
     "text": [
      "(500,)\n"
     ]
    }
   ],
   "source": [
    "#Cargar lista de ruidos\n",
    "audios_C='./Export Ruidos'\n",
    "\n",
    "archivos = os.listdir(audios_C)\n",
    "resul = []\n",
    "\n",
    "for i in archivos:\n",
    "    if os.path.isfile(os.path.join(audios_C, i)) and i.endswith('.wav'):\n",
    "        resul.append(i)\n",
    "audios_C_arr=np.array(resul)\n",
    "print(audios_C_arr.shape)"
   ]
  },
  {
   "cell_type": "code",
   "execution_count": 22,
   "metadata": {},
   "outputs": [],
   "source": [
    "fs = 44100  # Sample rate 44100 CD standatdize, 48000 Dvd standatdize 96000 Dvd Blue-ray\n",
    "c=0\n",
    "for i in audios_S_arr:\n",
    "    direct_s=\"./Export Auidos/\"+i\n",
    "    direct_c=\"./Export Ruidos/\"+audios_C_arr[np.random.randint(0,3)]\n",
    "    rate0, A0 = sf.read(str(direct_s), dtype='float32')\n",
    "    rate1, A1 = sf.read(str(direct_c), dtype='float32')\n",
    "\n",
    "    if rate0.shape == rate1.shape:\n",
    "        rate2 = rate0+rate1\n",
    "\n",
    "    elif rate0.shape>rate1.shape:\n",
    "        n=rate0.shape[0]-rate1.shape[0]\n",
    "        zeros=np.zeros((n,2))\n",
    "        rate1=np.concatenate((rate1,zeros))\n",
    "        rate2 = rate0+rate1\n",
    "\n",
    "    elif rate1.shape>rate0.shape:\n",
    "        n=rate1.shape[0]-rate0.shape[0]\n",
    "        zeros=np.zeros((n,2))\n",
    "        rate0=np.concatenate((rate0,zeros))\n",
    "        rate2 = rate0+rate1\n",
    "\n",
    "    c+=1\n",
    "    save_direc='./sounds/'+str(c)+'.wav'\n",
    "    write(str(save_direc), fs, rate2)"
   ]
  }
 ],
 "metadata": {
  "kernelspec": {
   "display_name": "Python 3.7.13 ('Tesis')",
   "language": "python",
   "name": "python3"
  },
  "language_info": {
   "codemirror_mode": {
    "name": "ipython",
    "version": 3
   },
   "file_extension": ".py",
   "mimetype": "text/x-python",
   "name": "python",
   "nbconvert_exporter": "python",
   "pygments_lexer": "ipython3",
   "version": "3.7.13"
  },
  "orig_nbformat": 4,
  "vscode": {
   "interpreter": {
    "hash": "948a1395bc670c944b3d23e51f1ef3bc750606575c00a54e6489fff030d236f6"
   }
  }
 },
 "nbformat": 4,
 "nbformat_minor": 2
}
