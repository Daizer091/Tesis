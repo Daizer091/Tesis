{
 "cells": [
  {
   "cell_type": "code",
   "execution_count": 1,
   "metadata": {},
   "outputs": [],
   "source": [
    "import os\n",
    "import gc\n",
    "import numpy as np\n",
    "import librosa as ls\n",
    "import librosa.display as display\n",
    "import matplotlib.pyplot as plt\n",
    "from scipy.io.wavfile import write\n",
    "gc.enable()"
   ]
  },
  {
   "cell_type": "code",
   "execution_count": 3,
   "metadata": {},
   "outputs": [
    {
     "name": "stdout",
     "output_type": "stream",
     "text": [
      "(500,)\n"
     ]
    }
   ],
   "source": [
    "#Load auidos export list .wav\n",
    "path='../Data set/Export Audios/Export Auidos'\n",
    "\n",
    "file = os.listdir(path)\n",
    "result = []\n",
    "\n",
    "for i in file:\n",
    "    if os.path.isfile(os.path.join(path, i)) and i.endswith('.wav'):\n",
    "        result.append(i)\n",
    "export_audio=np.array(result)\n",
    "print(export_audio.shape)"
   ]
  },
  {
   "cell_type": "code",
   "execution_count": 4,
   "metadata": {},
   "outputs": [
    {
     "name": "stdout",
     "output_type": "stream",
     "text": [
      "(600,)\n"
     ]
    }
   ],
   "source": [
    "#Load ambiental noise export list .wav\n",
    "path='../Data set/Export Audios/Export Ruidos'\n",
    "\n",
    "archivos = os.listdir(path)\n",
    "result = []\n",
    "\n",
    "for i in archivos:\n",
    "    if os.path.isfile(os.path.join(path, i)) and i.endswith('.wav'):\n",
    "        result.append(i)\n",
    "export_ambi_noise=np.array(result)\n",
    "print(export_ambi_noise.shape)"
   ]
  },
  {
   "cell_type": "code",
   "execution_count": 5,
   "metadata": {},
   "outputs": [],
   "source": [
    "%%capture\n",
    "def spectrograms(x,sr,path_save,name_audio):\n",
    "    name=name_audio.split('.')\n",
    "    print(name_audio)\n",
    "\n",
    "    Xstft=ls.stft(x[0],n_fft=1048)\n",
    "    XstftdB=ls.amplitude_to_db(np.abs(Xstft))\n",
    "    plt.figure(figsize=(34, 20))\n",
    "    display.specshow(XstftdB, sr=sr, rasterized=False,cmap='inferno',n_fft=1048)\n",
    "    path_save_name=path_save+name[0]+'_c1'+'.png'\n",
    "    plt.savefig(path_save_name,bbox_inches='tight',pad_inches=0, metadata=None)\n",
    "    plt.clf()\n",
    "    plt.close('all')\n",
    "\n",
    "    Xstft=ls.stft(x[1],n_fft=1048)\n",
    "    XstftdB=ls.amplitude_to_db(np.abs(Xstft))\n",
    "    plt.figure(figsize=(34, 20))\n",
    "    display.specshow(XstftdB, sr=sr, rasterized=False,cmap='inferno',n_fft=1048)\n",
    "    path_save_name=path_save+name[0]+'_c2'+'.png'\n",
    "    plt.savefig(path_save_name,bbox_inches='tight',pad_inches=0, metadata=None)\n",
    "    plt.clf()\n",
    "    plt.close('all')"
   ]
  },
  {
   "cell_type": "code",
   "execution_count": 6,
   "metadata": {},
   "outputs": [],
   "source": [
    "%%capture\n",
    "def audio_combination(x_name,y_name,x,y,x_sr,y_sr,path_save,combination):\n",
    "    #x = Export Auidos\n",
    "    #y = Export Ruidos\n",
    "    #f = x+y or combination of audios\n",
    "\n",
    "    name_1=x_name.split('.')\n",
    "    name_2=y_name.split('.')\n",
    "\n",
    "    name_f=name_1[0]+'_'+name_2[0]+'.wav'\n",
    "\n",
    "    if x_sr == y_sr:\n",
    "        sr = x_sr\n",
    "    else:\n",
    "        print('NameError:')\n",
    "        sr='error'\n",
    "\n",
    "    if x.shape == y.shape:\n",
    "        f = x+y\n",
    "\n",
    "    elif x.shape>y.shape:\n",
    "        n=x.shape[1]-y.shape[1]\n",
    "        zeros=np.zeros((2,n))\n",
    "        y=np.concatenate((zeros,y),axis=1)\n",
    "        f = x+y\n",
    "\n",
    "    elif y.shape>x.shape:\n",
    "        n=y.shape[1]-x.shape[1]\n",
    "        zeros=np.zeros((2,n))\n",
    "        x=np.concatenate((x,zeros),axis=1)\n",
    "        f = x+y\n",
    "\n",
    "    spectrograms(f,sr,path_save,name_f)\n",
    "\n",
    "    if combination==True:\n",
    "        write(path_save+name_f, sr, f.T)"
   ]
  },
  {
   "cell_type": "markdown",
   "metadata": {},
   "source": [
    "### Clean audio creation test"
   ]
  },
  {
   "cell_type": "code",
   "execution_count": 6,
   "metadata": {},
   "outputs": [],
   "source": [
    "x_test='../Data set/Export Audios/Export Auidos/1.wav'\n",
    "path_test='T:/test/'\n",
    "\n",
    "x ,sr=ls.load(x_test, sr=44100,mono=False)\n",
    "spectrograms(x,sr,path_test,'1.wav')"
   ]
  },
  {
   "cell_type": "markdown",
   "metadata": {},
   "source": [
    "### Test creation of combined audios\n",
    "- The sample rate must be the same\n",
    "- files are stored at the same address"
   ]
  },
  {
   "cell_type": "code",
   "execution_count": 7,
   "metadata": {},
   "outputs": [],
   "source": [
    "x_test='../Data set/Export Audios/Export Auidos/1.wav'\n",
    "y_test='../Data set/Export Audios/Export Ruidos/1.wav'\n",
    "\n",
    "x ,x_sr=ls.load(x_test, sr=44100,mono=False)\n",
    "y ,y_sr=ls.load(y_test, sr=44100,mono=False)\n",
    "\n",
    "path_test='T:/test/'\n",
    "\n",
    "audio_combination('1.wav','1.wav',x,y,x_sr,y_sr,path_test,True)"
   ]
  },
  {
   "cell_type": "markdown",
   "metadata": {},
   "source": [
    "### Creation of clean audios"
   ]
  },
  {
   "cell_type": "code",
   "execution_count": 8,
   "metadata": {},
   "outputs": [],
   "source": [
    "%%capture\n",
    "for i in export_audio:\n",
    "\n",
    "    path='../Data set/Export Audios/Export Auidos/'+i\n",
    "    path_save='T:/clean spectrograms/'\n",
    "    x ,sr=ls.load(path, sr=44100,mono=False)\n",
    "    spectrograms(x,sr,path_save,i)\n",
    "\n",
    "    gc.collect()"
   ]
  },
  {
   "cell_type": "markdown",
   "metadata": {},
   "source": [
    "### Creation of noise audios"
   ]
  },
  {
   "cell_type": "code",
   "execution_count": 14,
   "metadata": {},
   "outputs": [
    {
     "ename": "",
     "evalue": "",
     "output_type": "error",
     "traceback": [
      "\u001b[1;31mEl Kernel se bloqueó al ejecutar código en la celda actual o en una celda anterior. Revise el código de las celdas para identificar una posible causa del error. Haga clic <a href='https://aka.ms/vscodeJupyterKernelCrash'>aquí</a> para obtener más información. Vea el [registro] de Jupyter (command:jupyter.viewOutput) para obtener más detalles."
     ]
    }
   ],
   "source": [
    "%%capture\n",
    "path_save='T:/noise spectrograms/'\n",
    "for i0 in export_audio[20:21]:\n",
    "    x_path='../Data set/Export Audios/Export Auidos/'+i0\n",
    "    for i1 in export_ambi_noise:\n",
    "        y_path='../Data set/Export Audios/Export Ruidos/'+i1\n",
    "        x ,x_sr=ls.load(x_path, sr=44100,mono=False)\n",
    "        y ,y_sr=ls.load(y_path, sr=44100,mono=False)\n",
    "        audio_combination(i0,i1,x,y,x_sr,y_sr,path_save,False)\n",
    "\n",
    "        gc.collect()"
   ]
  },
  {
   "cell_type": "code",
   "execution_count": 10,
   "metadata": {},
   "outputs": [],
   "source": [
    "x_test='../Data set/Export Audios/Export Auidos/1.wav'\n",
    "y_test='../Data set/Export Audios/Export Ruidos/1.wav'\n",
    "path_test='T:/test/'"
   ]
  },
  {
   "cell_type": "code",
   "execution_count": 13,
   "metadata": {},
   "outputs": [
    {
     "data": {
      "text/plain": [
       "array(['115.wav', '116.wav'], dtype='<U7')"
      ]
     },
     "execution_count": 13,
     "metadata": {},
     "output_type": "execute_result"
    }
   ],
   "source": [
    "export_audio[20:22]"
   ]
  }
 ],
 "metadata": {
  "kernelspec": {
   "display_name": "Python 3.9.12 ('tesis')",
   "language": "python",
   "name": "python3"
  },
  "language_info": {
   "codemirror_mode": {
    "name": "ipython",
    "version": 3
   },
   "file_extension": ".py",
   "mimetype": "text/x-python",
   "name": "python",
   "nbconvert_exporter": "python",
   "pygments_lexer": "ipython3",
   "version": "3.10.6"
  },
  "orig_nbformat": 4,
  "vscode": {
   "interpreter": {
    "hash": "259e44daffc6d26f93145bc4934b18b676b91acf4989c4c29dc6e2d247b79d46"
   }
  }
 },
 "nbformat": 4,
 "nbformat_minor": 2
}
