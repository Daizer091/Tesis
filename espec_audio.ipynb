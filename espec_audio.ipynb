{
 "cells": [
  {
   "cell_type": "code",
   "execution_count": 15,
   "metadata": {},
   "outputs": [],
   "source": [
    "import librosa\n",
    "import numpy as np\n",
    "import scipy.signal\n",
    "import scipy.io.wavfile\n",
    "import matplotlib.pyplot as plt"
   ]
  },
  {
   "cell_type": "code",
   "execution_count": 7,
   "metadata": {},
   "outputs": [
    {
     "name": "stderr",
     "output_type": "stream",
     "text": [
      "C:\\Users\\A1\\AppData\\Local\\Temp\\ipykernel_16728\\2541807549.py:3: WavFileWarning: Chunk (non-data) not understood, skipping it.\n",
      "  fs, sig = scipy.io.wavfile.read(file)\n"
     ]
    }
   ],
   "source": [
    "# read file\n",
    "file    = \"../Data set/Export Audios/Export Auidos/1.wav\"\n",
    "fs, sig = scipy.io.wavfile.read(file)\n",
    "nperseg = int(fs * 0.001 * 20)"
   ]
  },
  {
   "cell_type": "code",
   "execution_count": 12,
   "metadata": {},
   "outputs": [
    {
     "name": "stderr",
     "output_type": "stream",
     "text": [
      "c:\\tools\\Anaconda3\\envs\\tesis\\lib\\site-packages\\scipy\\signal\\_spectral_py.py:1961: UserWarning: nperseg = 256 is greater than input length  = 2, using nperseg = 2\n",
      "  warnings.warn('nperseg = {0:d} is greater than input length '\n"
     ]
    }
   ],
   "source": [
    "# se realisa diferente https://docs.scipy.org/doc/scipy/reference/generated/scipy.signal.spectrogram.html\n",
    "frequencies, times, spectrogram = scipy.signal.spectrogram(sig, fs)"
   ]
  },
  {
   "cell_type": "code",
   "execution_count": 19,
   "metadata": {},
   "outputs": [
    {
     "data": {
      "text/plain": [
       "<function matplotlib.pyplot.show(close=None, block=None)>"
      ]
     },
     "execution_count": 19,
     "metadata": {},
     "output_type": "execute_result"
    },
    {
     "data": {
      "image/png": "[encoded data removed]",
      "text/plain": [
       "<Figure size 432x288 with 1 Axes>"
      ]
     },
     "metadata": {
      "needs_background": "light"
     },
     "output_type": "display_data"
    }
   ],
   "source": [
    "plt.imshow(spectrogram)\n",
    "plt.show"
   ]
  }
 ],
 "metadata": {
  "kernelspec": {
   "display_name": "Python 3.9.12 ('tesis')",
   "language": "python",
   "name": "python3"
  },
  "language_info": {
   "codemirror_mode": {
    "name": "ipython",
    "version": 3
   },
   "file_extension": ".py",
   "mimetype": "text/x-python",
   "name": "python",
   "nbconvert_exporter": "python",
   "pygments_lexer": "ipython3",
   "version": "3.9.12"
  },
  "orig_nbformat": 4,
  "vscode": {
   "interpreter": {
    "hash": "259e44daffc6d26f93145bc4934b18b676b91acf4989c4c29dc6e2d247b79d46"
   }
  }
 },
 "nbformat": 4,
 "nbformat_minor": 2
}
