{
 "cells": [
  {
   "cell_type": "code",
   "execution_count": 13,
   "metadata": {},
   "outputs": [],
   "source": [
    "import numpy as np\n",
    "from scipy.io.wavfile import write"
   ]
  },
  {
   "cell_type": "code",
   "execution_count": null,
   "metadata": {},
   "outputs": [],
   "source": [
    "#potencia positiva de los audios\n",
    "pp=np.random.random(110)\n",
    "#potencia negativa\n",
    "pn=-1*np.random.random(110)\n",
    "print('potencia positiva:',pp.shape)\n",
    "print('potencia negativa:',pn.shape)"
   ]
  },
  {
   "cell_type": "code",
   "execution_count": 15,
   "metadata": {},
   "outputs": [],
   "source": [
    "ref=491\n",
    "for i in zip(pn, pp):\n",
    "    #Genero unos datos aleatorios, en tu caso, por las dos canales.\n",
    "    dato = np.random.uniform(i[0],i[1],(1322520,2))\n",
    "    write('./Estática/'+str(ref)+'.wav', 44100, dato)\n",
    "    ref+=1"
   ]
  }
 ],
 "metadata": {
  "kernelspec": {
   "display_name": "Python 3.9.12 ('tesis')",
   "language": "python",
   "name": "python3"
  },
  "language_info": {
   "codemirror_mode": {
    "name": "ipython",
    "version": 3
   },
   "file_extension": ".py",
   "mimetype": "text/x-python",
   "name": "python",
   "nbconvert_exporter": "python",
   "pygments_lexer": "ipython3",
   "version": "3.9.12"
  },
  "orig_nbformat": 4,
  "vscode": {
   "interpreter": {
    "hash": "259e44daffc6d26f93145bc4934b18b676b91acf4989c4c29dc6e2d247b79d46"
   }
  }
 },
 "nbformat": 4,
 "nbformat_minor": 2
}
